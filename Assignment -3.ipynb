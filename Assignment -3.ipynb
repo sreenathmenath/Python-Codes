{
 "cells": [
  {
   "cell_type": "markdown",
   "id": "5488deb6",
   "metadata": {},
   "source": [
    "# Function to find the factorial of a number"
   ]
  },
  {
   "cell_type": "code",
   "execution_count": null,
   "id": "f910ba94",
   "metadata": {},
   "outputs": [],
   "source": [
    "def fact1(n):\n",
    "    fact = 1\n",
    "    for i in range(1,n+1):\n",
    "        fact = fact*i\n",
    "    return fact   \n",
    "    \n",
    "fact1(5)"
   ]
  },
  {
   "cell_type": "markdown",
   "id": "029ea1d0",
   "metadata": {},
   "source": [
    "# Convert degree to farenheit "
   ]
  },
  {
   "cell_type": "code",
   "execution_count": 3,
   "id": "1e62039e",
   "metadata": {},
   "outputs": [
    {
     "data": {
      "text/plain": [
       "89.6"
      ]
     },
     "execution_count": 3,
     "metadata": {},
     "output_type": "execute_result"
    }
   ],
   "source": [
    "\n",
    "def fah(n):\n",
    "    fahrenheit = (n * 1.8) + 32\n",
    "    return fahrenheit\n",
    "fah(32)"
   ]
  },
  {
   "cell_type": "markdown",
   "id": "4f942b22",
   "metadata": {},
   "source": [
    "# Implement a simple generator for Fibonacci series"
   ]
  },
  {
   "cell_type": "code",
   "execution_count": 2,
   "id": "ae5b81f5",
   "metadata": {},
   "outputs": [
    {
     "name": "stdout",
     "output_type": "stream",
     "text": [
      "0 1 1 2 3 5 8 "
     ]
    }
   ],
   "source": [
    "# Fibinocci\n",
    "\n",
    "def fib(n):\n",
    "    a,b = 0,1\n",
    "    while a<n:\n",
    "        print(a,end=\" \")\n",
    "        a,b = b,a+b\n",
    "        \n",
    "fib(10)\n"
   ]
  },
  {
   "cell_type": "markdown",
   "id": "fd1844af",
   "metadata": {},
   "source": [
    "# Write an iterator class to iterate over a sequence of values in the reverse direction"
   ]
  },
  {
   "cell_type": "code",
   "execution_count": 4,
   "id": "dc7804e7",
   "metadata": {},
   "outputs": [
    {
     "name": "stdout",
     "output_type": "stream",
     "text": [
      "a3 a2 a1 "
     ]
    }
   ],
   "source": [
    "a = [\"a1\",\"a2\",\"a3\"]\n",
    "for i in reversed(a):\n",
    "    print(i,end =\" \")"
   ]
  },
  {
   "cell_type": "markdown",
   "id": "0641cb29",
   "metadata": {},
   "source": [
    "# Write a function “salary” that takes in base pay, HRA and special allowance as arguments and returns the sum of all the 3 salary elements. Then create a decorator function to add an additional element “Tax” (30% of base pay) and assign it back to base pay variable, and return the function (i.e., the final calculation of salary also includes tax)"
   ]
  },
  {
   "cell_type": "code",
   "execution_count": 6,
   "id": "3ef0a960",
   "metadata": {},
   "outputs": [
    {
     "name": "stdout",
     "output_type": "stream",
     "text": [
      "Enter your base pay:1000\n",
      "Enter your HRA:500\n",
      "Enter your spl allowance:500\n",
      "Your current salary is : 1700.0\n"
     ]
    }
   ],
   "source": [
    "Base_pay = int(input(\"Enter your base pay:\"))\n",
    "HRA = int(input(\"Enter your HRA:\"))\n",
    "Special_allowance = int(input(\"Enter your spl allowance:\"))\n",
    "\n",
    "def salary(func,Base_pay,HRA,Special_allowance):\n",
    "   \n",
    "    Total_salary = (Base_pay + HRA + Special_allowance)-(func(Base_pay))\n",
    "    return Total_salary \n",
    "    \n",
    "def tax(Base_pay):\n",
    "    return (Base_pay)*(30/100)\n",
    "    \n",
    "tax(Base_pay)    \n",
    "print(\"Your current salary is :\",salary(tax,Base_pay,HRA,Special_allowance))\n"
   ]
  },
  {
   "cell_type": "code",
   "execution_count": 7,
   "id": "73871fbb",
   "metadata": {},
   "outputs": [],
   "source": [
    "#Write 3 examples on possible methods to change a tuple"
   ]
  },
  {
   "cell_type": "code",
   "execution_count": 8,
   "id": "2c205870",
   "metadata": {},
   "outputs": [
    {
     "data": {
      "text/plain": [
       "[1, 4, 3, 4]"
      ]
     },
     "execution_count": 8,
     "metadata": {},
     "output_type": "execute_result"
    }
   ],
   "source": [
    "t = (1,2,3,4)  # tuple \n",
    "t = list(t)    # change tuple to list \n",
    "t[1]=4         # update tuple \n",
    "t"
   ]
  },
  {
   "cell_type": "code",
   "execution_count": 9,
   "id": "3b99207a",
   "metadata": {},
   "outputs": [
    {
     "data": {
      "text/plain": [
       "(1, 4, 5, 6, 1, 2, 3, 4)"
      ]
     },
     "execution_count": 9,
     "metadata": {},
     "output_type": "execute_result"
    }
   ],
   "source": [
    "t2 = (1,2,3,4) \n",
    "t1 = (1,4,5,6)\n",
    "t = t1+t2\n",
    "t"
   ]
  },
  {
   "cell_type": "code",
   "execution_count": null,
   "id": "718fde66",
   "metadata": {},
   "outputs": [],
   "source": []
  }
 ],
 "metadata": {
  "kernelspec": {
   "display_name": "Python 3 (ipykernel)",
   "language": "python",
   "name": "python3"
  },
  "language_info": {
   "codemirror_mode": {
    "name": "ipython",
    "version": 3
   },
   "file_extension": ".py",
   "mimetype": "text/x-python",
   "name": "python",
   "nbconvert_exporter": "python",
   "pygments_lexer": "ipython3",
   "version": "3.9.7"
  }
 },
 "nbformat": 4,
 "nbformat_minor": 5
}
