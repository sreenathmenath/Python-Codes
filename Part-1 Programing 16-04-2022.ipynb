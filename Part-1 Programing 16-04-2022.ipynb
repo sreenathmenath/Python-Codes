{
 "cells": [
  {
   "cell_type": "markdown",
   "id": "b9c14c32",
   "metadata": {},
   "source": [
    "# . Write a program (with function) which takes a sequence of numbers and check if all \n",
    "numbers are unique.\n"
   ]
  },
  {
   "cell_type": "code",
   "execution_count": 7,
   "id": "5c4d616c",
   "metadata": {},
   "outputs": [
    {
     "name": "stdout",
     "output_type": "stream",
     "text": [
      "True\n",
      "False\n"
     ]
    }
   ],
   "source": [
    "def test_unique(x):\n",
    "  if len(x) == len(set(x)):\n",
    "    return True\n",
    "  else:\n",
    "    return False;\n",
    "print(test_unique([1,5,7,9]))\n",
    "print(test_unique([2,4,5,5,7,9]))"
   ]
  },
  {
   "cell_type": "markdown",
   "id": "2f10fee0",
   "metadata": {},
   "source": [
    "Python program to find out the average of a set of integers\n",
    "a. Note: Don’t use the pre-defined functions like np.mean\n",
    "b. For ex: If input is 5, the output should be average of 1+2+3+4+5"
   ]
  },
  {
   "cell_type": "code",
   "execution_count": 9,
   "id": "2bbe0ec0",
   "metadata": {},
   "outputs": [
    {
     "name": "stdout",
     "output_type": "stream",
     "text": [
      "How many numbers: 3\n",
      "Enter number : 5\n",
      "Enter number : 4\n",
      "Enter number : 3\n",
      "Average of  3  numbers is : 4.0\n"
     ]
    }
   ],
   "source": [
    "num = int(input('How many numbers: '))\n",
    "total = 0\n",
    "\n",
    "for n in range(num):\n",
    "    numbers = float(input('Enter number : '))\n",
    "    total += numbers\n",
    "\n",
    "avg = total/num\n",
    "print('Average of ', num, ' numbers is :', avg)"
   ]
  },
  {
   "cell_type": "markdown",
   "id": "2600da66",
   "metadata": {},
   "source": [
    "Python program to check whether the given integer is a multiple of both 5 and 7"
   ]
  },
  {
   "cell_type": "code",
   "execution_count": 15,
   "id": "6878152b",
   "metadata": {},
   "outputs": [
    {
     "name": "stdout",
     "output_type": "stream",
     "text": [
      "Numbers that can multiple by 7&5 are: [70, 35]\n"
     ]
    }
   ],
   "source": [
    "list_1 = [13, 14, 87, 44, 70, 9,35]\n",
    "\n",
    "result = list (filter (lambda x: (x % 7 == 0 and x % 5 == 0), list_1))\n",
    "\n",
    "print (\"Numbers that can multiple by 7&5 are:\", result)"
   ]
  },
  {
   "cell_type": "markdown",
   "id": "841a3fc3",
   "metadata": {},
   "source": [
    " Python program to display the given integer in reverse manner\n",
    "a. Ex: input 852, output should be 258"
   ]
  },
  {
   "cell_type": "code",
   "execution_count": 3,
   "id": "fadaf444",
   "metadata": {},
   "outputs": [
    {
     "name": "stdout",
     "output_type": "stream",
     "text": [
      "Please Enter any Number: 878778767\n",
      "n Reverse of entered number 767877878\n"
     ]
    }
   ],
   "source": [
    "Num = int(input(\"Please Enter any Number: \"))\n",
    " \n",
    "Result = 0\n",
    "def Result_Int(Num):\n",
    "    global Result\n",
    "    if(Num > 0):\n",
    "        Reminder = Num %10\n",
    "        Result = (Result *10) + Reminder\n",
    "        Result_Int(Num //10)\n",
    "    return Result\n",
    " \n",
    "Result = Result_Int(Num)\n",
    "print(\"n Reverse of entered number %d\" %Result)"
   ]
  },
  {
   "cell_type": "markdown",
   "id": "2d67613a",
   "metadata": {},
   "source": [
    " Create an inner function to calculate the addition in the following way\n",
    "a. Create an outer function that will accept two parameters, a and b\n",
    "b. Create an inner function inside an outer function that will calculate the addition of a \n",
    "and b\n",
    "c. At last, an outer function will add 5 into addition and return it"
   ]
  },
  {
   "cell_type": "code",
   "execution_count": 6,
   "id": "a24e3ead",
   "metadata": {},
   "outputs": [
    {
     "data": {
      "text/plain": [
       "32"
      ]
     },
     "execution_count": 6,
     "metadata": {},
     "output_type": "execute_result"
    }
   ],
   "source": [
    "\n",
    "\n"
   ]
  },
  {
   "cell_type": "markdown",
   "id": "9eeb2ace",
   "metadata": {},
   "source": [
    " Python Program to Check Leap Year\n",
    "a. A leap year is exactly divisible by 4 except for century years (years ending with 00). \n",
    "The century year is a leap year only if it is perfectly divisible by 400\n",
    "b. For ex: 2017 is not a leap year, 1900 is a not leap year, 2012 is a leap year, 2000 is a \n",
    "leap year"
   ]
  },
  {
   "cell_type": "code",
   "execution_count": 9,
   "id": "20552eab",
   "metadata": {},
   "outputs": [
    {
     "name": "stdout",
     "output_type": "stream",
     "text": [
      "Enter Year: 2020\n",
      "2020 is a Leap Year\n"
     ]
    }
   ],
   "source": [
    "Yr = int(input(\"Enter Year: \"))\n",
    "\n",
    "if Yr % 4 == 0 and Yr % 100 != 0:\n",
    "    print(Yr, \"is a Leap Year\")\n",
    "elif Yr % 100 == 0:\n",
    "    print(Yr, \"is not a Leap Year\")\n",
    "elif Yr % 400 ==0:\n",
    "    print(Yr, \"is a Leap Year\")\n",
    "else:\n",
    "    print(Yr, \"is not a Leap Year\")"
   ]
  },
  {
   "cell_type": "code",
   "execution_count": null,
   "id": "d32f6886",
   "metadata": {},
   "outputs": [],
   "source": []
  }
 ],
 "metadata": {
  "kernelspec": {
   "display_name": "Python 3 (ipykernel)",
   "language": "python",
   "name": "python3"
  },
  "language_info": {
   "codemirror_mode": {
    "name": "ipython",
    "version": 3
   },
   "file_extension": ".py",
   "mimetype": "text/x-python",
   "name": "python",
   "nbconvert_exporter": "python",
   "pygments_lexer": "ipython3",
   "version": "3.9.7"
  }
 },
 "nbformat": 4,
 "nbformat_minor": 5
}
