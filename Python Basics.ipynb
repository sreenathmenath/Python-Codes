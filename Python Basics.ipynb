{
 "cells": [
  {
   "cell_type": "markdown",
   "id": "8e70b09f",
   "metadata": {},
   "source": [
    "1.Import the necessary package to\n",
    "    Set the current working directory\n",
    "    Change the working directory\n"
   ]
  },
  {
   "cell_type": "code",
   "execution_count": 7,
   "id": "7d6add7f",
   "metadata": {},
   "outputs": [],
   "source": [
    "from Sreenath_package import testpackage"
   ]
  },
  {
   "cell_type": "code",
   "execution_count": 9,
   "id": "30d45663",
   "metadata": {},
   "outputs": [
    {
     "name": "stdout",
     "output_type": "stream",
     "text": [
      "1\n"
     ]
    }
   ],
   "source": [
    "print(testpackage.Gender)"
   ]
  },
  {
   "cell_type": "code",
   "execution_count": 8,
   "id": "bd07b644",
   "metadata": {},
   "outputs": [
    {
     "name": "stdout",
     "output_type": "stream",
     "text": [
      "sree.m.nath@gmail.com\n"
     ]
    }
   ],
   "source": [
    "print(testpackage.Email)"
   ]
  },
  {
   "cell_type": "markdown",
   "id": "96a0f6fe",
   "metadata": {},
   "source": [
    "Create the string, int and float variable and delete them all in the next cell\n"
   ]
  },
  {
   "cell_type": "code",
   "execution_count": 19,
   "id": "1251cfb0",
   "metadata": {},
   "outputs": [],
   "source": [
    "Name='Sam'\n",
    "Age=6\n",
    "hight_in_feet = 3.5"
   ]
  },
  {
   "cell_type": "code",
   "execution_count": 20,
   "id": "92bc4f73",
   "metadata": {},
   "outputs": [],
   "source": [
    "del Name\n",
    "del Age\n",
    "del hight_in_feet"
   ]
  },
  {
   "cell_type": "code",
   "execution_count": 22,
   "id": "25a728fa",
   "metadata": {},
   "outputs": [
    {
     "ename": "NameError",
     "evalue": "name 'Name' is not defined",
     "output_type": "error",
     "traceback": [
      "\u001b[1;31m---------------------------------------------------------------------------\u001b[0m",
      "\u001b[1;31mNameError\u001b[0m                                 Traceback (most recent call last)",
      "\u001b[1;32m~\\AppData\\Local\\Temp/ipykernel_2372/2823467840.py\u001b[0m in \u001b[0;36m<module>\u001b[1;34m\u001b[0m\n\u001b[1;32m----> 1\u001b[1;33m \u001b[0mName\u001b[0m\u001b[1;33m\u001b[0m\u001b[1;33m\u001b[0m\u001b[0m\n\u001b[0m",
      "\u001b[1;31mNameError\u001b[0m: name 'Name' is not defined"
     ]
    }
   ],
   "source": [
    "Name"
   ]
  },
  {
   "cell_type": "markdown",
   "id": "5e5e35ea",
   "metadata": {},
   "source": [
    "What’s the result of assigning a value to a ‘keyword’?\n",
    "Please highlight the error\n"
   ]
  },
  {
   "cell_type": "code",
   "execution_count": 27,
   "id": "4c3be1a4",
   "metadata": {},
   "outputs": [
    {
     "ename": "SyntaxError",
     "evalue": "invalid syntax (Temp/ipykernel_2372/757138286.py, line 1)",
     "output_type": "error",
     "traceback": [
      "\u001b[1;36m  File \u001b[1;32m\"C:\\Users\\Cloud\\AppData\\Local\\Temp/ipykernel_2372/757138286.py\"\u001b[1;36m, line \u001b[1;32m1\u001b[0m\n\u001b[1;33m    def = 'Sreenath'\u001b[0m\n\u001b[1;37m        ^\u001b[0m\n\u001b[1;31mSyntaxError\u001b[0m\u001b[1;31m:\u001b[0m invalid syntax\n"
     ]
    }
   ],
   "source": [
    "def = 'Sreenath'"
   ]
  },
  {
   "cell_type": "markdown",
   "id": "3228a933",
   "metadata": {},
   "source": [
    "How to write a multi-line statement and assign it to a variable (Note: Without using a backslash “\\” at the end of each line)\n"
   ]
  },
  {
   "cell_type": "code",
   "execution_count": 32,
   "id": "c65729b7",
   "metadata": {},
   "outputs": [
    {
     "name": "stdout",
     "output_type": "stream",
     "text": [
      "6\n"
     ]
    }
   ],
   "source": [
    "#This is block comment \n",
    "#which you can write for multiple lines\n",
    "print(2*3)"
   ]
  },
  {
   "cell_type": "code",
   "execution_count": 34,
   "id": "9b2f3290",
   "metadata": {},
   "outputs": [
    {
     "data": {
      "text/plain": [
       "'\\ntrying to achive diffrent ways of multiple way to write\\nmulti lined comments\\n'"
      ]
     },
     "execution_count": 34,
     "metadata": {},
     "output_type": "execute_result"
    }
   ],
   "source": [
    "\"\"\"\n",
    "trying to achive diffrent ways of multiple way to write\n",
    "multi lined comments\n",
    "\"\"\""
   ]
  },
  {
   "cell_type": "markdown",
   "id": "4e3875e8",
   "metadata": {},
   "source": [
    "#How to write a multi-line statement and assign it to a variable (Note: Without using a backslash “\\” at the end of each line)"
   ]
  },
  {
   "cell_type": "code",
   "execution_count": 37,
   "id": "8fd6c503",
   "metadata": {},
   "outputs": [],
   "source": [
    "mylist = list(range(100,999,8))"
   ]
  },
  {
   "cell_type": "code",
   "execution_count": 38,
   "id": "001a5968",
   "metadata": {},
   "outputs": [
    {
     "data": {
      "text/plain": [
       "[100,\n",
       " 108,\n",
       " 116,\n",
       " 124,\n",
       " 132,\n",
       " 140,\n",
       " 148,\n",
       " 156,\n",
       " 164,\n",
       " 172,\n",
       " 180,\n",
       " 188,\n",
       " 196,\n",
       " 204,\n",
       " 212,\n",
       " 220,\n",
       " 228,\n",
       " 236,\n",
       " 244,\n",
       " 252,\n",
       " 260,\n",
       " 268,\n",
       " 276,\n",
       " 284,\n",
       " 292,\n",
       " 300,\n",
       " 308,\n",
       " 316,\n",
       " 324,\n",
       " 332,\n",
       " 340,\n",
       " 348,\n",
       " 356,\n",
       " 364,\n",
       " 372,\n",
       " 380,\n",
       " 388,\n",
       " 396,\n",
       " 404,\n",
       " 412,\n",
       " 420,\n",
       " 428,\n",
       " 436,\n",
       " 444,\n",
       " 452,\n",
       " 460,\n",
       " 468,\n",
       " 476,\n",
       " 484,\n",
       " 492,\n",
       " 500,\n",
       " 508,\n",
       " 516,\n",
       " 524,\n",
       " 532,\n",
       " 540,\n",
       " 548,\n",
       " 556,\n",
       " 564,\n",
       " 572,\n",
       " 580,\n",
       " 588,\n",
       " 596,\n",
       " 604,\n",
       " 612,\n",
       " 620,\n",
       " 628,\n",
       " 636,\n",
       " 644,\n",
       " 652,\n",
       " 660,\n",
       " 668,\n",
       " 676,\n",
       " 684,\n",
       " 692,\n",
       " 700,\n",
       " 708,\n",
       " 716,\n",
       " 724,\n",
       " 732,\n",
       " 740,\n",
       " 748,\n",
       " 756,\n",
       " 764,\n",
       " 772,\n",
       " 780,\n",
       " 788,\n",
       " 796,\n",
       " 804,\n",
       " 812,\n",
       " 820,\n",
       " 828,\n",
       " 836,\n",
       " 844,\n",
       " 852,\n",
       " 860,\n",
       " 868,\n",
       " 876,\n",
       " 884,\n",
       " 892,\n",
       " 900,\n",
       " 908,\n",
       " 916,\n",
       " 924,\n",
       " 932,\n",
       " 940,\n",
       " 948,\n",
       " 956,\n",
       " 964,\n",
       " 972,\n",
       " 980,\n",
       " 988,\n",
       " 996]"
      ]
     },
     "execution_count": 38,
     "metadata": {},
     "output_type": "execute_result"
    }
   ],
   "source": [
    "mylist"
   ]
  },
  {
   "cell_type": "markdown",
   "id": "a75bd219",
   "metadata": {},
   "source": [
    "#Write a “for” loop to print out the ‘n’ values and break out of the statement if the value is ‘n/2’"
   ]
  },
  {
   "cell_type": "code",
   "execution_count": 42,
   "id": "4436bd35",
   "metadata": {},
   "outputs": [
    {
     "name": "stdout",
     "output_type": "stream",
     "text": [
      "Enter value6\n",
      "0.0\n",
      "0.5\n",
      "1.0\n",
      "1.5\n",
      "2.0\n",
      "2.5\n"
     ]
    }
   ],
   "source": [
    "n= int(input(\"Enter value\"))\n",
    "for x in range(n):\n",
    "    print (x/2)"
   ]
  },
  {
   "cell_type": "markdown",
   "id": "2882aacc",
   "metadata": {},
   "source": [
    "Write a simple function and call the docstring from outside the function"
   ]
  },
  {
   "cell_type": "code",
   "execution_count": 1,
   "id": "f9321a09",
   "metadata": {},
   "outputs": [],
   "source": [
    "def my_function(fname,lname):\n",
    "     print(fname+\" \"+lname)"
   ]
  },
  {
   "cell_type": "code",
   "execution_count": 2,
   "id": "fd92bf6b",
   "metadata": {},
   "outputs": [
    {
     "name": "stdout",
     "output_type": "stream",
     "text": [
      "Sreenath Menath\n"
     ]
    }
   ],
   "source": [
    "my_function(\"Sreenath\",\"Menath\")"
   ]
  },
  {
   "cell_type": "markdown",
   "id": "0a974fb2",
   "metadata": {},
   "source": [
    "Create a user-defined package in ‘site-packages’ with below 3 variables a, b and c. Import these variables and write a function to calculate the area of triangle for below 3 sides (a, b, c). Calculate the semi-perimeter (s) first, to calculate the area of triangle (area) at last\n",
    "<< Formula to calculate semi-perimeter: s = (a+b+c )/2\n",
    "<< Formula to calculate area = (s*(s-a) * (s-b) * (s-c)) ** 0.5 >>\n"
   ]
  },
  {
   "cell_type": "code",
   "execution_count": 9,
   "id": "b301fcd2",
   "metadata": {},
   "outputs": [
    {
     "name": "stdout",
     "output_type": "stream",
     "text": [
      "Enter a value:4\n",
      "Enter b value:4\n",
      "Enter b value:4\n",
      "6.0\n",
      "6.928203230275509\n"
     ]
    }
   ],
   "source": [
    "a=int(input(\"Enter a value:\"))\n",
    "b=int(input(\"Enter b value:\"))\n",
    "c=int(input(\"Enter b value:\"))\n",
    "sp= (a+b+c )/2\n",
    "area= (sp*(sp-a)*(sp-b)*(sp-c))**0.5\n",
    "print(sp)\n",
    "print(area)"
   ]
  },
  {
   "cell_type": "code",
   "execution_count": 10,
   "id": "91c60bc4",
   "metadata": {},
   "outputs": [
    {
     "name": "stdout",
     "output_type": "stream",
     "text": [
      "Enter a value:3\n",
      "Enter b value:4\n",
      "Enter b value:5\n"
     ]
    }
   ],
   "source": [
    "from Sreenath_package import Ex_Triangle"
   ]
  },
  {
   "cell_type": "code",
   "execution_count": 11,
   "id": "5584602b",
   "metadata": {},
   "outputs": [
    {
     "name": "stdout",
     "output_type": "stream",
     "text": [
      "6.0\n"
     ]
    }
   ],
   "source": [
    "print(sp)"
   ]
  },
  {
   "cell_type": "code",
   "execution_count": 12,
   "id": "79472bf3",
   "metadata": {},
   "outputs": [
    {
     "name": "stdout",
     "output_type": "stream",
     "text": [
      "6.928203230275509\n"
     ]
    }
   ],
   "source": [
    "print(area)"
   ]
  },
  {
   "cell_type": "markdown",
   "id": "1e0dc28e",
   "metadata": {},
   "source": [
    "Write a list comprehension to print the odd numbers from 0 to 100"
   ]
  },
  {
   "cell_type": "code",
   "execution_count": 15,
   "id": "92e5e98c",
   "metadata": {},
   "outputs": [
    {
     "data": {
      "text/plain": [
       "[1,\n",
       " 3,\n",
       " 5,\n",
       " 7,\n",
       " 9,\n",
       " 11,\n",
       " 13,\n",
       " 15,\n",
       " 17,\n",
       " 19,\n",
       " 21,\n",
       " 23,\n",
       " 25,\n",
       " 27,\n",
       " 29,\n",
       " 31,\n",
       " 33,\n",
       " 35,\n",
       " 37,\n",
       " 39,\n",
       " 41,\n",
       " 43,\n",
       " 45,\n",
       " 47,\n",
       " 49,\n",
       " 51,\n",
       " 53,\n",
       " 55,\n",
       " 57,\n",
       " 59,\n",
       " 61,\n",
       " 63,\n",
       " 65,\n",
       " 67,\n",
       " 69,\n",
       " 71,\n",
       " 73,\n",
       " 75,\n",
       " 77,\n",
       " 79,\n",
       " 81,\n",
       " 83,\n",
       " 85,\n",
       " 87,\n",
       " 89,\n",
       " 91,\n",
       " 93,\n",
       " 95,\n",
       " 97,\n",
       " 99]"
      ]
     },
     "execution_count": 15,
     "metadata": {},
     "output_type": "execute_result"
    }
   ],
   "source": [
    "[x for x in range(1,100)if x%2 != 0]"
   ]
  },
  {
   "cell_type": "markdown",
   "id": "fb1e3530",
   "metadata": {},
   "source": [
    " Create a variable (ex: name) and store your full name in it. Then write a list comprehension to print your name excluding vowels (a, e, i, o, u)\n",
    "Ex: name = Imran\n",
    "Output = [‘m’, ‘r’, ‘n’]\n"
   ]
  },
  {
   "cell_type": "code",
   "execution_count": 18,
   "id": "1ff253ac",
   "metadata": {},
   "outputs": [
    {
     "name": "stdout",
     "output_type": "stream",
     "text": [
      "Imran\n"
     ]
    },
    {
     "data": {
      "text/plain": [
       "['I', 'm', 'r', 'n']"
      ]
     },
     "execution_count": 18,
     "metadata": {},
     "output_type": "execute_result"
    }
   ],
   "source": [
    "[x for x in input()if (x not in 'aeiou')]"
   ]
  },
  {
   "cell_type": "code",
   "execution_count": 19,
   "id": "b37d36d6",
   "metadata": {},
   "outputs": [
    {
     "name": "stdout",
     "output_type": "stream",
     "text": [
      "Sreenath\n"
     ]
    },
    {
     "data": {
      "text/plain": [
       "['S', 'r', 'n', 't', 'h']"
      ]
     },
     "execution_count": 19,
     "metadata": {},
     "output_type": "execute_result"
    }
   ],
   "source": [
    "[x for x in input()if (x not in 'aeiou')]"
   ]
  },
  {
   "cell_type": "code",
   "execution_count": null,
   "id": "ffa08a09",
   "metadata": {},
   "outputs": [],
   "source": []
  }
 ],
 "metadata": {
  "kernelspec": {
   "display_name": "Python 3 (ipykernel)",
   "language": "python",
   "name": "python3"
  },
  "language_info": {
   "codemirror_mode": {
    "name": "ipython",
    "version": 3
   },
   "file_extension": ".py",
   "mimetype": "text/x-python",
   "name": "python",
   "nbconvert_exporter": "python",
   "pygments_lexer": "ipython3",
   "version": "3.9.7"
  }
 },
 "nbformat": 4,
 "nbformat_minor": 5
}
